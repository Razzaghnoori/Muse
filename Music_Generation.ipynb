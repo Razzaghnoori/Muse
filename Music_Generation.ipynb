{
  "nbformat": 4,
  "nbformat_minor": 0,
  "metadata": {
    "colab": {
      "name": "Music_Generation.ipynb",
      "version": "0.3.2",
      "provenance": [],
      "collapsed_sections": [],
      "toc_visible": true
    },
    "kernelspec": {
      "display_name": "Python 3",
      "language": "python",
      "name": "python3"
    },
    "accelerator": "GPU"
  },
  "cells": [
    {
      "metadata": {
        "colab_type": "code",
        "id": "LV5p7bZe9S_D",
        "colab": {
          "base_uri": "https://localhost:8080/",
          "height": 204
        },
        "outputId": "b2307a34-c4c8-4ab0-a594-2b22848d7cd3"
      },
      "cell_type": "code",
      "source": [
        "from getpass import getpass\n",
        "from os import environ\n",
        "\n",
        "user = getpass('Github User') or 'razzaghnoori'\n",
        "passwd = getpass('Github Password')\n",
        "\n",
        "environ['Github_Auth'] = user + ':' + passwd\n",
        "\n",
        "% cd /content/\n",
        "\n",
        "! git clone https://$Github_Auth@github.com/Razzaghnoori/Muse.git\n",
        "% cd /content/Muse/"
      ],
      "execution_count": 4,
      "outputs": [
        {
          "output_type": "stream",
          "text": [
            "Github User··········\n",
            "Github Password··········\n",
            "/content\n",
            "Cloning into 'Muse'...\n",
            "remote: Enumerating objects: 2086, done.\u001b[K\n",
            "remote: Counting objects: 100% (2086/2086), done.\u001b[K\n",
            "remote: Compressing objects: 100% (949/949), done.\u001b[K\n",
            "remote: Total 2086 (delta 1046), reused 2057 (delta 1017), pack-reused 0\u001b[K\n",
            "Receiving objects: 100% (2086/2086), 73.47 MiB | 49.20 MiB/s, done.\n",
            "Resolving deltas: 100% (1046/1046), done.\n",
            "/content/Muse\n"
          ],
          "name": "stdout"
        }
      ]
    },
    {
      "metadata": {
        "colab_type": "text",
        "id": "LJeWpN959S_P"
      },
      "cell_type": "markdown",
      "source": [
        "## Install Dependencies\n"
      ]
    },
    {
      "metadata": {
        "colab_type": "code",
        "id": "0mrX_SAkD-Kd",
        "colab": {
          "base_uri": "https://localhost:8080/",
          "height": 326
        },
        "outputId": "98ab0fad-b7b2-491d-f1a4-425a9573778d"
      },
      "cell_type": "code",
      "source": [
        "% pip install SharedArray pypianoroll"
      ],
      "execution_count": 5,
      "outputs": [
        {
          "output_type": "stream",
          "text": [
            "Collecting SharedArray\n",
            "  Downloading https://files.pythonhosted.org/packages/cf/58/da95daa37d635e3094eb56ac655a22ea95b4236e166278e9f07ff444712a/SharedArray-3.1.0.tar.gz\n",
            "Collecting pypianoroll\n",
            "  Downloading https://files.pythonhosted.org/packages/aa/33/fa38c07909e425add987146cb0f8d5ad80262f6a72cc820bf7e5f690d527/pypianoroll-0.5.0.tar.gz\n",
            "Requirement already satisfied: numpy in /usr/local/lib/python3.6/dist-packages (from SharedArray) (1.14.6)\n",
            "Requirement already satisfied: six<2.0,>=1.0.0 in /usr/local/lib/python3.6/dist-packages (from pypianoroll) (1.11.0)\n",
            "Requirement already satisfied: scipy<2.0,>=1.0.0 in /usr/local/lib/python3.6/dist-packages (from pypianoroll) (1.1.0)\n",
            "Requirement already satisfied: pretty_midi<1.0,>=0.2.8 in /usr/local/lib/python3.6/dist-packages (from pypianoroll) (0.2.8)\n",
            "Requirement already satisfied: mido>=1.1.16 in /usr/local/lib/python3.6/dist-packages (from pretty_midi<1.0,>=0.2.8->pypianoroll) (1.2.6)\n",
            "Building wheels for collected packages: SharedArray, pypianoroll\n",
            "  Building wheel for SharedArray (setup.py) ... \u001b[?25ldone\n",
            "\u001b[?25h  Stored in directory: /root/.cache/pip/wheels/ba/6f/37/b4575b3daa7340b720674090f52d77bbd928be6a666a7ddae6\n",
            "  Building wheel for pypianoroll (setup.py) ... \u001b[?25ldone\n",
            "\u001b[?25h  Stored in directory: /root/.cache/pip/wheels/ed/f6/fb/5d070524ecf7ba9ed201247a293c01945cfd7f840f8ef338c0\n",
            "Successfully built SharedArray pypianoroll\n",
            "Installing collected packages: SharedArray, pypianoroll\n",
            "Successfully installed SharedArray-3.1.0 pypianoroll-0.5.0\n"
          ],
          "name": "stdout"
        }
      ]
    },
    {
      "metadata": {
        "colab_type": "text",
        "id": "7h6WJMbUtTLW"
      },
      "cell_type": "markdown",
      "source": [
        "## Download Data"
      ]
    },
    {
      "metadata": {
        "cellView": "both",
        "colab_type": "code",
        "id": "s9WZvJA6zfOj",
        "colab": {
          "base_uri": "https://localhost:8080/",
          "height": 717
        },
        "outputId": "57f27b1a-c563-4fe4-e768-f17a6207df87"
      },
      "cell_type": "code",
      "source": [
        "% cd /content/Muse/\n",
        "\n",
        "# Download the training data\n",
        "! ./scripts/download_data.sh\n",
        "# Store the training data to shared memory\n",
        "! ./scripts/process_data.sh\n",
        "# Download the pre-trained models\n",
        "! ./scripts/download_models.sh"
      ],
      "execution_count": 6,
      "outputs": [
        {
          "output_type": "stream",
          "text": [
            "--2019-03-28 16:57:44--  https://docs.google.com/uc?export=download&confirm=IJyP&id=12Z440hxJSGCIhCSYaX5tbvsQA61WD_RH\n",
            "Resolving docs.google.com (docs.google.com)... 74.125.141.139, 74.125.141.138, 74.125.141.102, ...\n",
            "Connecting to docs.google.com (docs.google.com)|74.125.141.139|:443... connected.\n",
            "HTTP request sent, awaiting response... 302 Moved Temporarily\n",
            "Location: https://doc-0c-b8-docs.googleusercontent.com/docs/securesc/ha0ro937gcuc7l7deffksulhg5h7mbp1/a5h2f0unmvnid6acpqelf98cq545uqh9/1553788800000/15994423637875292506/*/12Z440hxJSGCIhCSYaX5tbvsQA61WD_RH?e=download [following]\n",
            "Warning: wildcards not supported in HTTP.\n",
            "--2019-03-28 16:57:44--  https://doc-0c-b8-docs.googleusercontent.com/docs/securesc/ha0ro937gcuc7l7deffksulhg5h7mbp1/a5h2f0unmvnid6acpqelf98cq545uqh9/1553788800000/15994423637875292506/*/12Z440hxJSGCIhCSYaX5tbvsQA61WD_RH?e=download\n",
            "Resolving doc-0c-b8-docs.googleusercontent.com (doc-0c-b8-docs.googleusercontent.com)... 74.125.141.132, 2607:f8b0:400c:c06::84\n",
            "Connecting to doc-0c-b8-docs.googleusercontent.com (doc-0c-b8-docs.googleusercontent.com)|74.125.141.132|:443... connected.\n",
            "HTTP request sent, awaiting response... 200 OK\n",
            "Length: unspecified [application/zip]\n",
            "Saving to: ‘/content/Muse/scripts/../data/train_x_lpd_5_phr.npz’\n",
            "\n",
            "/content/Muse/scrip     [    <=>             ]  98.06M   150MB/s    in 0.7s    \n",
            "\n",
            "2019-03-28 16:57:45 (150 MB/s) - ‘/content/Muse/scripts/../data/train_x_lpd_5_phr.npz’ saved [102821896]\n",
            "\n",
            "Loading data from '/content/Muse/scripts/../data/train_x_lpd_5_phr.npz'.\n",
            "Saving data to shared memory.\n",
            "tcmalloc: large alloc 6245990400 bytes == 0x28d0000 @  0x7f546e7501e7 0x7f546c446a41 0x7f546c4a9c13 0x7f546c44a937 0x5553b5 0x5a730c 0x503073 0x507641 0x504c28 0x502540 0x502f3d 0x507641 0x501945 0x591461 0x59ebbe 0x545068 0x506b39 0x502209 0x502f3d 0x506859 0x504c28 0x506393 0x634d52 0x634e0a 0x6385c8 0x63915a 0x4a6f10 0x7f546e34db97 0x5afa0a\n",
            "./scripts/process_data.sh: line 5:   262 Killed                  python \"$DIR/../src/process_data.py\" \"$DIR/../data/train_x_lpd_5_phr.npz\"\n",
            "--2019-03-28 16:58:15--  https://docs.google.com/uc?export=download&confirm=hTKp&id=1mZCq8o87Zjf2sL1KMcQ1dO7JbCDSRgoX\n",
            "Resolving docs.google.com (docs.google.com)... 74.125.141.100, 74.125.141.101, 74.125.141.139, ...\n",
            "Connecting to docs.google.com (docs.google.com)|74.125.141.100|:443... connected.\n",
            "HTTP request sent, awaiting response... 302 Moved Temporarily\n",
            "Location: https://doc-0s-b8-docs.googleusercontent.com/docs/securesc/ha0ro937gcuc7l7deffksulhg5h7mbp1/bmqdar74e3qo2ob0bfo807m4hf2aj6vb/1553788800000/15994423637875292506/*/1mZCq8o87Zjf2sL1KMcQ1dO7JbCDSRgoX?e=download [following]\n",
            "Warning: wildcards not supported in HTTP.\n",
            "--2019-03-28 16:58:16--  https://doc-0s-b8-docs.googleusercontent.com/docs/securesc/ha0ro937gcuc7l7deffksulhg5h7mbp1/bmqdar74e3qo2ob0bfo807m4hf2aj6vb/1553788800000/15994423637875292506/*/1mZCq8o87Zjf2sL1KMcQ1dO7JbCDSRgoX?e=download\n",
            "Resolving doc-0s-b8-docs.googleusercontent.com (doc-0s-b8-docs.googleusercontent.com)... 74.125.141.132, 2607:f8b0:400c:c06::84\n",
            "Connecting to doc-0s-b8-docs.googleusercontent.com (doc-0s-b8-docs.googleusercontent.com)|74.125.141.132|:443... connected.\n",
            "HTTP request sent, awaiting response... 200 OK\n",
            "Length: unspecified [application/gzip]\n",
            "Saving to: ‘/content/Muse/scripts/../exp/pretrained_models.tar.gz’\n",
            "\n",
            "/content/Muse/scrip     [                 <=>] 408.74M   120MB/s    in 3.6s    \n",
            "\n",
            "2019-03-28 16:58:19 (114 MB/s) - ‘/content/Muse/scripts/../exp/pretrained_models.tar.gz’ saved [428597350]\n",
            "\n",
            "Decompressing archive.\n",
            "Successfully decompressed.\n"
          ],
          "name": "stdout"
        }
      ]
    },
    {
      "metadata": {
        "colab_type": "text",
        "id": "AF25br-wGqTK"
      },
      "cell_type": "markdown",
      "source": [
        "## Upload MIDIs"
      ]
    },
    {
      "metadata": {
        "colab_type": "code",
        "id": "FyxtXgN_Gk8F",
        "colab": {}
      },
      "cell_type": "code",
      "source": [
        "from google.colab import files\n",
        "\n",
        "% mkdir -p /content/Muse/midi_dataset/\n",
        "% cd /content/Muse/midi_dataset/\n",
        "\n",
        "\n",
        "! MYDIR=$[$(ls -d */ | wc -l)+1] && mkdir $MYDIR && mv *.mid $MYDIR\n",
        "\n",
        "files.upload()\n",
        "\n",
        "! unzip 'compressed.zip'\n",
        "\n",
        "% cd /content/Muse/"
      ],
      "execution_count": 0,
      "outputs": []
    },
    {
      "metadata": {
        "colab_type": "text",
        "id": "kM8J-1eh9S_g"
      },
      "cell_type": "markdown",
      "source": [
        "## Process Input"
      ]
    },
    {
      "metadata": {
        "colab_type": "code",
        "id": "OMZOjoZr9S_i",
        "colab": {}
      },
      "cell_type": "code",
      "source": [
        "from src import run\n",
        "\n",
        "midi_group = run.MIDIGroup(midi_dir='midi_dataset/classical/bach/', config_path='exp/default/config.yaml')\n",
        "midi_group.export('data/bach')\n",
        "print('Network data generated successfully.')"
      ],
      "execution_count": 0,
      "outputs": []
    },
    {
      "metadata": {
        "colab_type": "text",
        "id": "rpAi62Qw1W1Y"
      },
      "cell_type": "markdown",
      "source": [
        "## Run Experiment\n"
      ]
    },
    {
      "metadata": {
        "colab_type": "code",
        "id": "WWguJIvPz6sb",
        "colab": {
          "base_uri": "https://localhost:8080/",
          "height": 255
        },
        "outputId": "d5ad68ab-dac9-400c-c883-c69dbe04549a"
      },
      "cell_type": "code",
      "source": [
        "! ./scripts/run_exp.sh \"./exp/default/\""
      ],
      "execution_count": 9,
      "outputs": [
        {
          "output_type": "stream",
          "text": [
            "Traceback (most recent call last):\n",
            "  File \"/content/Muse/scripts/../src/train.py\", line 10, in <module>\n",
            "    from musegan.data import load_data, get_dataset, get_samples\n",
            "  File \"/content/Muse/src/musegan/data.py\", line 6, in <module>\n",
            "    from src.musegan.config import SHUFFLE_BUFFER_SIZE, PREFETCH_SIZE\n",
            "ModuleNotFoundError: No module named 'src'\n",
            "Traceback (most recent call last):\n",
            "  File \"/content/Muse/scripts/../src/inference.py\", line 9, in <module>\n",
            "    from src.musegan.config import LOGLEVEL, LOG_FORMAT\n",
            "ModuleNotFoundError: No module named 'src'\n",
            "Traceback (most recent call last):\n",
            "  File \"/content/Muse/scripts/../src/interpolation.py\", line 9, in <module>\n",
            "    from src.musegan.config import LOGLEVEL, LOG_FORMAT\n",
            "ModuleNotFoundError: No module named 'src'\n"
          ],
          "name": "stdout"
        }
      ]
    },
    {
      "metadata": {
        "id": "PVoBhkLBPpk9",
        "colab_type": "code",
        "colab": {}
      },
      "cell_type": "code",
      "source": [
        ""
      ],
      "execution_count": 0,
      "outputs": []
    }
  ]
}