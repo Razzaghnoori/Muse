{
  "nbformat": 4,
  "nbformat_minor": 0,
  "metadata": {
    "colab": {
      "name": "Music_Generation.ipynb",
      "version": "0.3.2",
      "provenance": [],
      "collapsed_sections": [],
      "toc_visible": true
    },
    "kernelspec": {
      "name": "python3",
      "display_name": "Python 3"
    }
  },
  "cells": [
    {
      "metadata": {
        "colab_type": "code",
        "id": "LV5p7bZe9S_D",
        "colab": {}
      },
      "cell_type": "code",
      "source": [
        "from getpass import getpass\n",
        "from os import environ\n",
        "\n",
        "user = input('Github User') or 'razzaghnoori'\n",
        "passwd = getpass('Github Password')\n",
        "\n",
        "environ['Github_Auth'] = user + ':' + passwd\n",
        "\n",
        "% cd /content/\n",
        "\n",
        "! git clone https://$Github_Auth@github.com/Razzaghnoori/Muse.git\n",
        "% cd /content/Muse/"
      ],
      "execution_count": 0,
      "outputs": []
    },
    {
      "metadata": {
        "colab_type": "text",
        "id": "LJeWpN959S_P"
      },
      "cell_type": "markdown",
      "source": [
        "## Install Dependencies\n"
      ]
    },
    {
      "metadata": {
        "colab_type": "code",
        "id": "0mrX_SAkD-Kd",
        "colab": {}
      },
      "cell_type": "code",
      "source": [
        "% pip install SharedArray pypianoroll"
      ],
      "execution_count": 0,
      "outputs": []
    },
    {
      "metadata": {
        "colab_type": "text",
        "id": "7h6WJMbUtTLW"
      },
      "cell_type": "markdown",
      "source": [
        "## Download Data"
      ]
    },
    {
      "metadata": {
        "cellView": "both",
        "colab_type": "code",
        "id": "s9WZvJA6zfOj",
        "colab": {}
      },
      "cell_type": "code",
      "source": [
        "% cd /content/Muse/\n",
        "\n",
        "# Download the training data\n",
        "! ./scripts/download_data.sh\n",
        "# Store the training data to shared memory\n",
        "! ./scripts/process_data.sh\n",
        "# Download the pre-trained models\n",
        "! ./scripts/download_models.sh\n",
        "\n",
        "\n",
        "#Setup conditional experiment\n",
        "! ./scripts/setup_exp.sh \"./exp/conditional/\" \"My conditional test experiment\""
      ],
      "execution_count": 0,
      "outputs": []
    },
    {
      "metadata": {
        "colab_type": "text",
        "id": "AF25br-wGqTK"
      },
      "cell_type": "markdown",
      "source": [
        "## Upload MIDIs"
      ]
    },
    {
      "metadata": {
        "colab_type": "code",
        "id": "FyxtXgN_Gk8F",
        "colab": {}
      },
      "cell_type": "code",
      "source": [
        "from google.colab import files\n",
        "\n",
        "% mkdir -p /content/Muse/midi_dataset/\n",
        "% cd /content/Muse/midi_dataset/\n",
        "\n",
        "\n",
        "# ! MYDIR=$[$(ls -d */ | wc -l)+1] && mkdir $MYDIR && mv *.mid $MYDIR\n",
        "\n",
        "files.upload()\n",
        "\n",
        "! unzip 'compressed.zip'\n",
        "\n",
        "% cd /content/Muse/"
      ],
      "execution_count": 0,
      "outputs": []
    },
    {
      "metadata": {
        "colab_type": "text",
        "id": "kM8J-1eh9S_g"
      },
      "cell_type": "markdown",
      "source": [
        "## Process Input"
      ]
    },
    {
      "metadata": {
        "colab_type": "code",
        "id": "OMZOjoZr9S_i",
        "colab": {}
      },
      "cell_type": "code",
      "source": [
        "% cd src\n",
        "\n",
        "import run\n",
        "\n",
        "midi_group = run.MIDIGroup(midi_dir='../midi_dataset/', config_path='../exp/conditional/config.yaml')\n",
        "midi_group.export('../data/train')\n",
        "del midi_group\n",
        "print('Network data generated successfully.')"
      ],
      "execution_count": 0,
      "outputs": []
    },
    {
      "metadata": {
        "colab_type": "text",
        "id": "rpAi62Qw1W1Y"
      },
      "cell_type": "markdown",
      "source": [
        "## Run Experiment\n"
      ]
    },
    {
      "metadata": {
        "id": "XJkI6ZgpDNN3",
        "colab_type": "code",
        "colab": {}
      },
      "cell_type": "code",
      "source": [
        "! git pull"
      ],
      "execution_count": 0,
      "outputs": []
    },
    {
      "metadata": {
        "colab_type": "code",
        "id": "WWguJIvPz6sb",
        "colab": {}
      },
      "cell_type": "code",
      "source": [
        "% cd /content/Muse/\n",
        "! ./scripts/run_train.sh \"./exp/conditional/\" \"0\""
      ],
      "execution_count": 0,
      "outputs": []
    },
    {
      "metadata": {
        "id": "IJmdJ7CsEHqE",
        "colab_type": "code",
        "colab": {}
      },
      "cell_type": "code",
      "source": [
        ""
      ],
      "execution_count": 0,
      "outputs": []
    }
  ]
}