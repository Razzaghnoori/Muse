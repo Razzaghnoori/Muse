{
 "cells": [
  {
   "cell_type": "code",
   "execution_count": 1,
   "metadata": {
    "colab": {
     "base_uri": "https://localhost:8080/",
     "height": 204
    },
    "colab_type": "code",
    "id": "LV5p7bZe9S_D",
    "outputId": "88ab7cd1-b719-4e89-deab-202a38803c09"
   },
   "outputs": [
    {
     "name": "stdout",
     "output_type": "stream",
     "text": [
      "Github User··········\n",
      "Github Password··········\n",
      "/content\n",
      "Cloning into 'Muse'...\n",
      "remote: Enumerating objects: 2100, done.\u001b[K\n",
      "remote: Counting objects: 100% (2100/2100), done.\u001b[K\n",
      "remote: Compressing objects: 100% (960/960), done.\u001b[K\n",
      "remote: Total 2100 (delta 1058), reused 2062 (delta 1020), pack-reused 0\u001b[K\n",
      "Receiving objects: 100% (2100/2100), 73.47 MiB | 33.26 MiB/s, done.\n",
      "Resolving deltas: 100% (1058/1058), done.\n",
      "/content/Muse\n"
     ]
    }
   ],
   "source": [
    "from getpass import getpass\n",
    "from os import environ\n",
    "\n",
    "user = getpass('Github User') or 'razzaghnoori'\n",
    "passwd = getpass('Github Password')\n",
    "\n",
    "environ['Github_Auth'] = user + ':' + passwd\n",
    "\n",
    "% cd /content/\n",
    "\n",
    "! git clone https://$Github_Auth@github.com/Razzaghnoori/Muse.git\n",
    "% cd /content/Muse/"
   ]
  },
  {
   "cell_type": "markdown",
   "metadata": {
    "colab_type": "text",
    "id": "LJeWpN959S_P"
   },
   "source": [
    "## Install Dependencies\n"
   ]
  },
  {
   "cell_type": "code",
   "execution_count": 2,
   "metadata": {
    "colab": {
     "base_uri": "https://localhost:8080/",
     "height": 326
    },
    "colab_type": "code",
    "id": "0mrX_SAkD-Kd",
    "outputId": "b13c8a65-9754-4f76-c8ea-58a3af82097e"
   },
   "outputs": [
    {
     "name": "stdout",
     "output_type": "stream",
     "text": [
      "Collecting SharedArray\n",
      "  Downloading https://files.pythonhosted.org/packages/cf/58/da95daa37d635e3094eb56ac655a22ea95b4236e166278e9f07ff444712a/SharedArray-3.1.0.tar.gz\n",
      "Collecting pypianoroll\n",
      "  Downloading https://files.pythonhosted.org/packages/aa/33/fa38c07909e425add987146cb0f8d5ad80262f6a72cc820bf7e5f690d527/pypianoroll-0.5.0.tar.gz\n",
      "Requirement already satisfied: numpy in /usr/local/lib/python3.6/dist-packages (from SharedArray) (1.14.6)\n",
      "Requirement already satisfied: six<2.0,>=1.0.0 in /usr/local/lib/python3.6/dist-packages (from pypianoroll) (1.11.0)\n",
      "Requirement already satisfied: scipy<2.0,>=1.0.0 in /usr/local/lib/python3.6/dist-packages (from pypianoroll) (1.1.0)\n",
      "Requirement already satisfied: pretty_midi<1.0,>=0.2.8 in /usr/local/lib/python3.6/dist-packages (from pypianoroll) (0.2.8)\n",
      "Requirement already satisfied: mido>=1.1.16 in /usr/local/lib/python3.6/dist-packages (from pretty_midi<1.0,>=0.2.8->pypianoroll) (1.2.6)\n",
      "Building wheels for collected packages: SharedArray, pypianoroll\n",
      "  Building wheel for SharedArray (setup.py) ... \u001b[?25ldone\n",
      "\u001b[?25h  Stored in directory: /root/.cache/pip/wheels/ba/6f/37/b4575b3daa7340b720674090f52d77bbd928be6a666a7ddae6\n",
      "  Building wheel for pypianoroll (setup.py) ... \u001b[?25ldone\n",
      "\u001b[?25h  Stored in directory: /root/.cache/pip/wheels/ed/f6/fb/5d070524ecf7ba9ed201247a293c01945cfd7f840f8ef338c0\n",
      "Successfully built SharedArray pypianoroll\n",
      "Installing collected packages: SharedArray, pypianoroll\n",
      "Successfully installed SharedArray-3.1.0 pypianoroll-0.5.0\n"
     ]
    }
   ],
   "source": [
    "% pip install SharedArray pypianoroll"
   ]
  },
  {
   "cell_type": "markdown",
   "metadata": {
    "colab_type": "text",
    "id": "7h6WJMbUtTLW"
   },
   "source": [
    "## Download Data"
   ]
  },
  {
   "cell_type": "code",
   "execution_count": 3,
   "metadata": {
    "cellView": "both",
    "colab": {
     "base_uri": "https://localhost:8080/",
     "height": 734
    },
    "colab_type": "code",
    "id": "s9WZvJA6zfOj",
    "outputId": "1302024b-6f0f-438c-f546-7254bf8f2a06"
   },
   "outputs": [
    {
     "name": "stdout",
     "output_type": "stream",
     "text": [
      "/content/Muse\n",
      "--2019-03-28 19:20:07--  https://docs.google.com/uc?export=download&confirm=g9kz&id=12Z440hxJSGCIhCSYaX5tbvsQA61WD_RH\n",
      "Resolving docs.google.com (docs.google.com)... 74.125.141.139, 74.125.141.138, 74.125.141.102, ...\n",
      "Connecting to docs.google.com (docs.google.com)|74.125.141.139|:443... connected.\n",
      "HTTP request sent, awaiting response... 302 Moved Temporarily\n",
      "Location: https://doc-0c-b8-docs.googleusercontent.com/docs/securesc/ha0ro937gcuc7l7deffksulhg5h7mbp1/djb4gm5clgvpjftcm26augbgo6n46eea/1553796000000/15994423637875292506/*/12Z440hxJSGCIhCSYaX5tbvsQA61WD_RH?e=download [following]\n",
      "Warning: wildcards not supported in HTTP.\n",
      "--2019-03-28 19:20:07--  https://doc-0c-b8-docs.googleusercontent.com/docs/securesc/ha0ro937gcuc7l7deffksulhg5h7mbp1/djb4gm5clgvpjftcm26augbgo6n46eea/1553796000000/15994423637875292506/*/12Z440hxJSGCIhCSYaX5tbvsQA61WD_RH?e=download\n",
      "Resolving doc-0c-b8-docs.googleusercontent.com (doc-0c-b8-docs.googleusercontent.com)... 74.125.141.132, 2607:f8b0:400c:c06::84\n",
      "Connecting to doc-0c-b8-docs.googleusercontent.com (doc-0c-b8-docs.googleusercontent.com)|74.125.141.132|:443... connected.\n",
      "HTTP request sent, awaiting response... 200 OK\n",
      "Length: unspecified [application/zip]\n",
      "Saving to: ‘/content/Muse/scripts/../data/train_x_lpd_5_phr.npz’\n",
      "\n",
      "/content/Muse/scrip     [    <=>             ]  98.06M   150MB/s    in 0.7s    \n",
      "\n",
      "2019-03-28 19:20:08 (150 MB/s) - ‘/content/Muse/scripts/../data/train_x_lpd_5_phr.npz’ saved [102821896]\n",
      "\n",
      "Loading data from '/content/Muse/scripts/../data/train_x_lpd_5_phr.npz'.\n",
      "Saving data to shared memory.\n",
      "tcmalloc: large alloc 6245990400 bytes == 0x24aa000 @  0x7fd9d7e751e7 0x7fd9d5b6ba41 0x7fd9d5bcec13 0x7fd9d5b6f937 0x5553b5 0x5a730c 0x503073 0x507641 0x504c28 0x502540 0x502f3d 0x507641 0x501945 0x591461 0x59ebbe 0x545068 0x506b39 0x502209 0x502f3d 0x506859 0x504c28 0x506393 0x634d52 0x634e0a 0x6385c8 0x63915a 0x4a6f10 0x7fd9d7a72b97 0x5afa0a\n",
      "./scripts/process_data.sh: line 5:   247 Killed                  python \"$DIR/../src/process_data.py\" \"$DIR/../data/train_x_lpd_5_phr.npz\"\n",
      "--2019-03-28 19:20:37--  https://docs.google.com/uc?export=download&confirm=suaU&id=1mZCq8o87Zjf2sL1KMcQ1dO7JbCDSRgoX\n",
      "Resolving docs.google.com (docs.google.com)... 74.125.141.100, 74.125.141.102, 74.125.141.101, ...\n",
      "Connecting to docs.google.com (docs.google.com)|74.125.141.100|:443... connected.\n",
      "HTTP request sent, awaiting response... 302 Moved Temporarily\n",
      "Location: https://doc-0s-b8-docs.googleusercontent.com/docs/securesc/ha0ro937gcuc7l7deffksulhg5h7mbp1/4gd26533l68sf0tr9ri51avui5gvb79p/1553796000000/15994423637875292506/*/1mZCq8o87Zjf2sL1KMcQ1dO7JbCDSRgoX?e=download [following]\n",
      "Warning: wildcards not supported in HTTP.\n",
      "--2019-03-28 19:20:37--  https://doc-0s-b8-docs.googleusercontent.com/docs/securesc/ha0ro937gcuc7l7deffksulhg5h7mbp1/4gd26533l68sf0tr9ri51avui5gvb79p/1553796000000/15994423637875292506/*/1mZCq8o87Zjf2sL1KMcQ1dO7JbCDSRgoX?e=download\n",
      "Resolving doc-0s-b8-docs.googleusercontent.com (doc-0s-b8-docs.googleusercontent.com)... 74.125.141.132, 2607:f8b0:400c:c06::84\n",
      "Connecting to doc-0s-b8-docs.googleusercontent.com (doc-0s-b8-docs.googleusercontent.com)|74.125.141.132|:443... connected.\n",
      "HTTP request sent, awaiting response... 200 OK\n",
      "Length: unspecified [application/gzip]\n",
      "Saving to: ‘/content/Muse/scripts/../exp/pretrained_models.tar.gz’\n",
      "\n",
      "/content/Muse/scrip     [             <=>    ] 408.74M   163MB/s    in 2.5s    \n",
      "\n",
      "2019-03-28 19:20:40 (163 MB/s) - ‘/content/Muse/scripts/../exp/pretrained_models.tar.gz’ saved [428597350]\n",
      "\n",
      "Decompressing archive.\n",
      "Successfully decompressed.\n"
     ]
    }
   ],
   "source": [
    "% cd /content/Muse/\n",
    "\n",
    "# Download the training data\n",
    "! ./scripts/download_data.sh\n",
    "# Store the training data to shared memory\n",
    "! ./scripts/process_data.sh\n",
    "# Download the pre-trained models\n",
    "! ./scripts/download_models.sh"
   ]
  },
  {
   "cell_type": "markdown",
   "metadata": {
    "colab_type": "text",
    "id": "AF25br-wGqTK"
   },
   "source": [
    "## Upload MIDIs"
   ]
  },
  {
   "cell_type": "code",
   "execution_count": 4,
   "metadata": {
    "colab": {
     "base_uri": "https://localhost:8080/",
     "height": 397,
     "resources": {
      "http://localhost:8080/nbextensions/google.colab/files.js": {
       "data": "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",
       "headers": [
        [
         "content-type",
         "application/javascript"
        ]
       ],
       "ok": true,
       "status": 200,
       "status_text": ""
      }
     }
    },
    "colab_type": "code",
    "id": "FyxtXgN_Gk8F",
    "outputId": "a4053c98-0471-4f6c-d596-ba3d26120064"
   },
   "outputs": [
    {
     "name": "stdout",
     "output_type": "stream",
     "text": [
      "/content/Muse/midi_dataset\n"
     ]
    },
    {
     "data": {
      "text/html": [
       "\n",
       "     <input type=\"file\" id=\"files-e42cff73-3758-43a8-98c6-a2cec6d3f700\" name=\"files[]\" multiple disabled />\n",
       "     <output id=\"result-e42cff73-3758-43a8-98c6-a2cec6d3f700\">\n",
       "      Upload widget is only available when the cell has been executed in the\n",
       "      current browser session. Please rerun this cell to enable.\n",
       "      </output>\n",
       "      <script src=\"/nbextensions/google.colab/files.js\"></script> "
      ],
      "text/plain": [
       "<IPython.core.display.HTML object>"
      ]
     },
     "metadata": {
      "tags": []
     },
     "output_type": "display_data"
    },
    {
     "name": "stdout",
     "output_type": "stream",
     "text": [
      "Saving compressed.zip to compressed.zip\n",
      "Archive:  compressed.zip\n",
      "  inflating: 1603no01prel.mid        \n",
      "  inflating: 1604no02intro.mid       \n",
      "  inflating: 1605no03brind.mid       \n",
      "  inflating: 1607vdreq21b.mid        \n",
      "  inflating: 1608rigolett2.mid       \n",
      "  inflating: 1609verdilux.mid        \n",
      "  inflating: 1610verdirm1.mid        \n",
      "  inflating: 1611vrdtrav.mid         \n",
      "  inflating: 1617verdiivs.mid        \n",
      "  inflating: 1618maschera.mid        \n",
      "  inflating: 1674latraviatSteven.mid  \n",
      "  inflating: 2937ladonnaemobile.mid  \n",
      "  inflating: 358anvil.mid            \n",
      "  inflating: Verdidoncarlopreludio1.mid  \n",
      "  inflating: Verdidoncarlopreludio3.mid  \n",
      "  inflating: ballomascherearstevenritchie.mid  \n",
      "/content/Muse\n"
     ]
    }
   ],
   "source": [
    "from google.colab import files\n",
    "\n",
    "% mkdir -p /content/Muse/midi_dataset/\n",
    "% cd /content/Muse/midi_dataset/\n",
    "\n",
    "\n",
    "# ! MYDIR=$[$(ls -d */ | wc -l)+1] && mkdir $MYDIR && mv *.mid $MYDIR\n",
    "\n",
    "files.upload()\n",
    "\n",
    "! unzip 'compressed.zip'\n",
    "\n",
    "% cd /content/Muse/"
   ]
  },
  {
   "cell_type": "markdown",
   "metadata": {
    "colab_type": "text",
    "id": "kM8J-1eh9S_g"
   },
   "source": [
    "## Process Input"
   ]
  },
  {
   "cell_type": "code",
   "execution_count": 0,
   "metadata": {
    "colab": {},
    "colab_type": "code",
    "id": "OMZOjoZr9S_i"
   },
   "outputs": [],
   "source": [
    "% cd src\n",
    "\n",
    "import run\n",
    "\n",
    "midi_group = run.MIDIGroup(midi_dir='../midi_dataset/', config_path='../exp/default/config.yaml')\n",
    "midi_group.export('../data/bach')\n",
    "print('Network data generated successfully.')"
   ]
  },
  {
   "cell_type": "markdown",
   "metadata": {
    "colab_type": "text",
    "id": "rpAi62Qw1W1Y"
   },
   "source": [
    "## Run Experiment\n"
   ]
  },
  {
   "cell_type": "code",
   "execution_count": 10,
   "metadata": {
    "colab": {
     "base_uri": "https://localhost:8080/",
     "height": 2295
    },
    "colab_type": "code",
    "id": "WWguJIvPz6sb",
    "outputId": "da5e4db9-853f-4294-c549-43b3f65dd354"
   },
   "outputs": [
    {
     "name": "stdout",
     "output_type": "stream",
     "text": [
      "/content/Muse\n",
      "Traceback (most recent call last):\n",
      "  File \"/content/Muse/scripts/../src/train.py\", line 348, in <module>\n",
      "    main()\n",
      "  File \"/content/Muse/scripts/../src/train.py\", line 166, in main\n",
      "    params, config = setup()\n",
      "  File \"/content/Muse/scripts/../src/train.py\", line 54, in setup\n",
      "    if params['is_accompaniment'] and params['condition_track_idx'] is None:\n",
      "KeyError: 'is_accompaniment'\n",
      "musegan.inference    INFO     Using parameters:\n",
      "{'beat_resolution': 12,\n",
      " 'data_shape': [4, 48, 84, 5],\n",
      " 'is_conditional': False,\n",
      " 'latent_dim': 128,\n",
      " 'nets': {'discriminator': 'default', 'generator': 'default'},\n",
      " 'use_binary_neurons': False}\n",
      "musegan.inference    INFO     Using configurations:\n",
      "{'adam': {'beta1': 0.5, 'beta2': 0.9},\n",
      " 'batch_size': 64,\n",
      " 'checkpoint_dir': './exp/default//model',\n",
      " 'colormap': [[1.0, 0.0, 0.0],\n",
      "              [1.0, 0.5, 0.0],\n",
      "              [0.0, 1.0, 0.0],\n",
      "              [0.0, 0.0, 1.0],\n",
      "              [0.0, 0.5, 1.0]],\n",
      " 'columns': 5,\n",
      " 'config': './exp/default//config.yaml',\n",
      " 'data_filename': 'train_x_lpd_5_phr',\n",
      " 'data_root': None,\n",
      " 'data_source': 'sa',\n",
      " 'evaluate_steps': 100,\n",
      " 'gan_loss_type': 'wasserstein',\n",
      " 'gpu': '0',\n",
      " 'initial_learning_rate': 0.001,\n",
      " 'learning_rate_schedule': {'end': 50000, 'end_value': 0.0, 'start': 45000},\n",
      " 'log_loss_steps': 100,\n",
      " 'lower': -2,\n",
      " 'midi': {'is_drums': [1, 0, 0, 0, 0],\n",
      "          'lowest_pitch': 24,\n",
      "          'programs': [0, 0, 25, 33, 48],\n",
      "          'tempo': 100},\n",
      " 'n_dis_updates_per_gen_update': 5,\n",
      " 'n_jobs': 20,\n",
      " 'params': './exp/default//params.yaml',\n",
      " 'result_dir': './exp/default//results/inference',\n",
      " 'rows': 5,\n",
      " 'runs': 10,\n",
      " 'sample_grid': [8, 8],\n",
      " 'save_array_samples': True,\n",
      " 'save_checkpoint_steps': 10000,\n",
      " 'save_image_samples': True,\n",
      " 'save_pianoroll_samples': True,\n",
      " 'save_samples_steps': 100,\n",
      " 'save_summaries_steps': 0,\n",
      " 'slope_schedule': {'end': 50000, 'end_value': 5.0, 'start': 10000},\n",
      " 'steps': 50000,\n",
      " 'upper': 2,\n",
      " 'use_gradient_penalties': True,\n",
      " 'use_learning_rate_decay': True,\n",
      " 'use_random_transpose': False,\n",
      " 'use_slope_annealing': False,\n",
      " 'use_train_test_split': False}\n",
      "musegan.model        INFO     Building model.\n",
      "Traceback (most recent call last):\n",
      "  File \"/content/Muse/scripts/../src/inference.py\", line 163, in <module>\n",
      "    main()\n",
      "  File \"/content/Muse/scripts/../src/inference.py\", line 100, in main\n",
      "    model = Model(params)\n",
      "  File \"/content/Muse/src/musegan/model.py\", line 37, in __init__\n",
      "    if params['is_accompaniment']:\n",
      "KeyError: 'is_accompaniment'\n",
      "musegan.interpolation INFO     Using parameters:\n",
      "{'beat_resolution': 12,\n",
      " 'data_shape': [4, 48, 84, 5],\n",
      " 'is_conditional': False,\n",
      " 'latent_dim': 128,\n",
      " 'nets': {'discriminator': 'default', 'generator': 'default'},\n",
      " 'use_binary_neurons': False}\n",
      "musegan.interpolation INFO     Using configurations:\n",
      "{'adam': {'beta1': 0.5, 'beta2': 0.9},\n",
      " 'batch_size': 64,\n",
      " 'checkpoint_dir': './exp/default//model',\n",
      " 'colormap': [[1.0, 0.0, 0.0],\n",
      "              [1.0, 0.5, 0.0],\n",
      "              [0.0, 1.0, 0.0],\n",
      "              [0.0, 0.0, 1.0],\n",
      "              [0.0, 0.5, 1.0]],\n",
      " 'columns': 5,\n",
      " 'config': './exp/default//config.yaml',\n",
      " 'data_filename': 'train_x_lpd_5_phr',\n",
      " 'data_root': None,\n",
      " 'data_source': 'sa',\n",
      " 'evaluate_steps': 100,\n",
      " 'gan_loss_type': 'wasserstein',\n",
      " 'gpu': '0',\n",
      " 'initial_learning_rate': 0.001,\n",
      " 'learning_rate_schedule': {'end': 50000, 'end_value': 0.0, 'start': 45000},\n",
      " 'log_loss_steps': 100,\n",
      " 'lower': 0.0,\n",
      " 'midi': {'is_drums': [1, 0, 0, 0, 0],\n",
      "          'lowest_pitch': 24,\n",
      "          'programs': [0, 0, 25, 33, 48],\n",
      "          'tempo': 100},\n",
      " 'mode': 'lerp',\n",
      " 'n_dis_updates_per_gen_update': 5,\n",
      " 'n_jobs': 20,\n",
      " 'params': './exp/default//params.yaml',\n",
      " 'result_dir': './exp/default//results/interpolation',\n",
      " 'rows': 5,\n",
      " 'runs': 10,\n",
      " 'sample_grid': [8, 8],\n",
      " 'save_array_samples': True,\n",
      " 'save_checkpoint_steps': 10000,\n",
      " 'save_image_samples': True,\n",
      " 'save_pianoroll_samples': True,\n",
      " 'save_samples_steps': 100,\n",
      " 'save_summaries_steps': 0,\n",
      " 'slope_schedule': {'end': 50000, 'end_value': 5.0, 'start': 10000},\n",
      " 'steps': 50000,\n",
      " 'upper': 1.0,\n",
      " 'use_gradient_penalties': True,\n",
      " 'use_learning_rate_decay': True,\n",
      " 'use_random_transpose': False,\n",
      " 'use_slope_annealing': False,\n",
      " 'use_train_test_split': False}\n",
      "musegan.model        INFO     Building model.\n",
      "Traceback (most recent call last):\n",
      "  File \"/content/Muse/scripts/../src/interpolation.py\", line 204, in <module>\n",
      "    main()\n",
      "  File \"/content/Muse/scripts/../src/interpolation.py\", line 142, in main\n",
      "    model = Model(params)\n",
      "  File \"/content/Muse/src/musegan/model.py\", line 37, in __init__\n",
      "    if params['is_accompaniment']:\n",
      "KeyError: 'is_accompaniment'\n"
     ]
    }
   ],
   "source": [
    "% cd /content/Muse/\n",
    "! ./scripts/run_exp.sh \"./exp/default/\""
   ]
  },
  {
   "cell_type": "code",
   "execution_count": 0,
   "metadata": {
    "colab": {},
    "colab_type": "code",
    "id": "PVoBhkLBPpk9"
   },
   "outputs": [],
   "source": []
  }
 ],
 "metadata": {
  "accelerator": "GPU",
  "colab": {
   "collapsed_sections": [],
   "name": "Music_Generation.ipynb",
   "provenance": [],
   "toc_visible": true,
   "version": "0.3.2"
  },
  "kernelspec": {
   "display_name": "Python 3",
   "language": "python",
   "name": "python3"
  },
  "language_info": {
   "codemirror_mode": {
    "name": "ipython",
    "version": 3
   },
   "file_extension": ".py",
   "mimetype": "text/x-python",
   "name": "python",
   "nbconvert_exporter": "python",
   "pygments_lexer": "ipython3",
   "version": "3.5.2"
  }
 },
 "nbformat": 4,
 "nbformat_minor": 1
}
