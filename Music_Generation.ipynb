{
 "cells": [
  {
   "cell_type": "code",
   "execution_count": 0,
   "metadata": {
    "colab": {},
    "colab_type": "code",
    "id": "LV5p7bZe9S_D"
   },
   "outputs": [],
   "source": [
    "from getpass import getpass\n",
    "from os import environ\n",
    "\n",
    "user = getpass('Github User') or 'razzaghnoori'\n",
    "passwd = getpass('Github Password')\n",
    "\n",
    "environ['Github_Auth'] = user + ':' + passwd\n",
    "\n",
    "! git clone https://$Github_Auth@github.com/Razzaghnoori/Muse.git\n",
    "% cd Muse"
   ]
  },
  {
   "cell_type": "markdown",
   "metadata": {
    "colab_type": "text",
    "id": "LJeWpN959S_P"
   },
   "source": [
    "## Install Dependencies\n"
   ]
  },
  {
   "cell_type": "code",
   "execution_count": 0,
   "metadata": {
    "colab": {},
    "colab_type": "code",
    "id": "0mrX_SAkD-Kd"
   },
   "outputs": [],
   "source": [
    "% pip install SharedArray pypianoroll"
   ]
  },
  {
   "cell_type": "markdown",
   "metadata": {
    "colab_type": "text",
    "id": "7h6WJMbUtTLW"
   },
   "source": [
    "## Download Data"
   ]
  },
  {
   "cell_type": "code",
   "execution_count": 0,
   "metadata": {
    "cellView": "both",
    "colab": {},
    "colab_type": "code",
    "id": "s9WZvJA6zfOj"
   },
   "outputs": [],
   "source": [
    "# Download the training data\n",
    "! ./scripts/download_data.sh\n",
    "# Store the training data to shared memory\n",
    "! ./scripts/process_data.sh\n",
    "# Download the pre-trained models\n",
    "! ./scripts/download_models.sh"
   ]
  },
  {
   "cell_type": "markdown",
   "metadata": {
    "colab_type": "text",
    "id": "AF25br-wGqTK"
   },
   "source": [
    "## Upload MIDIs"
   ]
  },
  {
   "cell_type": "code",
   "execution_count": 0,
   "metadata": {
    "colab": {},
    "colab_type": "code",
    "id": "FyxtXgN_Gk8F"
   },
   "outputs": [],
   "source": [
    "from google.colab import files\n",
    "\n",
    "% mkdir -p midi_dataset/classical/bach\n",
    "% cd midi_dataset/classical/bach\n",
    "\n",
    "files.upload()\n",
    "\n",
    "% unzip 'compressed.zip'\n",
    "\n",
    "% cd -"
   ]
  },
  {
   "cell_type": "markdown",
   "metadata": {
    "colab_type": "text",
    "id": "kM8J-1eh9S_g"
   },
   "source": [
    "## Process Input"
   ]
  },
  {
   "cell_type": "code",
   "execution_count": 0,
   "metadata": {
    "colab": {},
    "colab_type": "code",
    "id": "OMZOjoZr9S_i"
   },
   "outputs": [],
   "source": [
    "from src import run\n",
    "\n",
    "midi_group = run.MIDIGroup(midi_dir='midi_dataset/classical/bach/', config_path='exp/default/config.yaml')\n",
    "midi_group.export('data/bach')\n",
    "print('Network data generated successfully.')"
   ]
  },
  {
   "cell_type": "markdown",
   "metadata": {
    "colab_type": "text",
    "id": "rpAi62Qw1W1Y"
   },
   "source": [
    "## Run Experiment\n"
   ]
  },
  {
   "cell_type": "code",
   "execution_count": 0,
   "metadata": {
    "colab": {},
    "colab_type": "code",
    "id": "WWguJIvPz6sb"
   },
   "outputs": [],
   "source": [
    "% pip install pypianoroll\n",
    "! ./scripts/run_exp.sh \"./exp/default/\""
   ]
  }
 ],
 "metadata": {
  "accelerator": "GPU",
  "colab": {
   "collapsed_sections": [],
   "name": "Music_Generation.ipynb",
   "provenance": [],
   "toc_visible": true,
   "version": "0.3.2"
  },
  "kernelspec": {
   "display_name": "Python 3",
   "language": "python",
   "name": "python3"
  },
  "language_info": {
   "codemirror_mode": {
    "name": "ipython",
    "version": 3
   },
   "file_extension": ".py",
   "mimetype": "text/x-python",
   "name": "python",
   "nbconvert_exporter": "python",
   "pygments_lexer": "ipython3",
   "version": "3.5.2"
  }
 },
 "nbformat": 4,
 "nbformat_minor": 1
}
