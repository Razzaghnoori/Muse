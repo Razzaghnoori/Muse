{
  "nbformat": 4,
  "nbformat_minor": 0,
  "metadata": {
    "colab": {
      "name": "Music_Generation.ipynb",
      "version": "0.3.2",
      "provenance": [],
      "collapsed_sections": [],
      "toc_visible": true
    },
    "kernelspec": {
      "display_name": "Python 3",
      "language": "python",
      "name": "python3"
    },
    "accelerator": "GPU"
  },
  "cells": [
    {
      "metadata": {
        "colab_type": "code",
        "id": "LV5p7bZe9S_D",
        "colab": {}
      },
      "cell_type": "code",
      "source": [
        "from getpass import getpass\n",
        "from os import environ\n",
        "\n",
        "user = getpass('Github User') or 'razzaghnoori'\n",
        "passwd = getpass('Github Password')\n",
        "\n",
        "environ['Github_Auth'] = user + ':' + passwd\n",
        "\n",
        "! git clone https://$Github_Auth@github.com/Razzaghnoori/Muse.git\n",
        "% cd Muse"
      ],
      "execution_count": 0,
      "outputs": []
    },
    {
      "metadata": {
        "colab_type": "text",
        "id": "LJeWpN959S_P"
      },
      "cell_type": "markdown",
      "source": [
        "## Install Dependencies\n"
      ]
    },
    {
      "metadata": {
        "colab_type": "code",
        "id": "0mrX_SAkD-Kd",
        "colab": {}
      },
      "cell_type": "code",
      "source": [
        "% pip install SharedArray pypianoroll"
      ],
      "execution_count": 0,
      "outputs": []
    },
    {
      "metadata": {
        "colab_type": "text",
        "id": "7h6WJMbUtTLW"
      },
      "cell_type": "markdown",
      "source": [
        "## Download Data"
      ]
    },
    {
      "metadata": {
        "cellView": "both",
        "colab_type": "code",
        "id": "s9WZvJA6zfOj",
        "colab": {}
      },
      "cell_type": "code",
      "source": [
        "# Download the training data\n",
        "! ./scripts/download_data.sh\n",
        "# Store the training data to shared memory\n",
        "! ./scripts/process_data.sh\n",
        "# Download the pre-trained models\n",
        "! ./scripts/download_models.sh"
      ],
      "execution_count": 0,
      "outputs": []
    },
    {
      "metadata": {
        "colab_type": "text",
        "id": "AF25br-wGqTK"
      },
      "cell_type": "markdown",
      "source": [
        "## Upload MIDIs"
      ]
    },
    {
      "metadata": {
        "colab_type": "code",
        "id": "FyxtXgN_Gk8F",
        "colab": {}
      },
      "cell_type": "code",
      "source": [
        "from google.colab import files\n",
        "\n",
        "% mkdir -p midi_dataset/classical/bach\n",
        "% cd midi_dataset/classical/bach\n",
        "\n",
        "files.upload()\n",
        "\n",
        "! unzip 'compressed.zip'\n",
        "\n",
        "% cd -"
      ],
      "execution_count": 0,
      "outputs": []
    },
    {
      "metadata": {
        "colab_type": "text",
        "id": "kM8J-1eh9S_g"
      },
      "cell_type": "markdown",
      "source": [
        "## Process Input"
      ]
    },
    {
      "metadata": {
        "colab_type": "code",
        "id": "OMZOjoZr9S_i",
        "colab": {}
      },
      "cell_type": "code",
      "source": [
        "from src import run\n",
        "\n",
        "midi_group = run.MIDIGroup(midi_dir='midi_dataset/classical/bach/', config_path='exp/default/config.yaml')\n",
        "midi_group.export('data/bach')\n",
        "print('Network data generated successfully.')"
      ],
      "execution_count": 0,
      "outputs": []
    },
    {
      "metadata": {
        "colab_type": "text",
        "id": "rpAi62Qw1W1Y"
      },
      "cell_type": "markdown",
      "source": [
        "## Run Experiment\n"
      ]
    },
    {
      "metadata": {
        "colab_type": "code",
        "id": "WWguJIvPz6sb",
        "colab": {}
      },
      "cell_type": "code",
      "source": [
        "% pip install pypianoroll\n",
        "! ./scripts/run_exp.sh \"./exp/default/\""
      ],
      "execution_count": 0,
      "outputs": []
    }
  ]
}