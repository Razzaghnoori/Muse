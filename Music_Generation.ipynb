{
 "cells": [
  {
   "cell_type": "code",
   "execution_count": null,
   "metadata": {},
   "outputs": [],
   "source": [
    "from getpass import getpass\n",
    "from os import environ\n",
    "\n",
    "user = getpass('Github User') or 'razzaghnoori'\n",
    "passwd = getpass('Github Password')\n",
    "\n",
    "environ['Github_Auth'] = user + ':' + passwd\n",
    "\n",
    "! git clone https://$Github_Auth@github.com/Razzaghnoori/Muse.git"
   ]
  },
  {
   "cell_type": "markdown",
   "metadata": {},
   "source": [
    "## Install Dependencies\n"
   ]
  },
  {
   "cell_type": "code",
   "execution_count": 0,
   "metadata": {
    "colab": {},
    "colab_type": "code",
    "id": "0mrX_SAkD-Kd"
   },
   "outputs": [],
   "source": [
    "% pip install SharedArray pypianoroll"
   ]
  },
  {
   "cell_type": "markdown",
   "metadata": {
    "colab_type": "text",
    "id": "7h6WJMbUtTLW"
   },
   "source": [
    "## Download Data"
   ]
  },
  {
   "cell_type": "code",
   "execution_count": 0,
   "metadata": {
    "cellView": "both",
    "colab": {},
    "colab_type": "code",
    "id": "s9WZvJA6zfOj"
   },
   "outputs": [],
   "source": [
    "% ls\n",
    "# Download the training data\n",
    "! ./scripts/download_data.sh\n",
    "# Store the training data to shared memory\n",
    "! ./scripts/process_data.sh\n",
    "# Download the pre-trained models\n",
    "! ./scripts/download_models.sh"
   ]
  },
  {
   "cell_type": "markdown",
   "metadata": {},
   "source": [
    "## Process Input"
   ]
  },
  {
   "cell_type": "code",
   "execution_count": null,
   "metadata": {},
   "outputs": [],
   "source": [
    "from src import run\n",
    "\n",
    "midi_group = run.MIDIGroup('midi_dataset/classical/bach/')\n",
    "midi_group.export('data/bach')\n",
    "print('Network data generated successfully.')"
   ]
  },
  {
   "cell_type": "markdown",
   "metadata": {
    "colab_type": "text",
    "id": "rpAi62Qw1W1Y"
   },
   "source": [
    "## Run Experiment\n"
   ]
  },
  {
   "cell_type": "code",
   "execution_count": 0,
   "metadata": {
    "colab": {},
    "colab_type": "code",
    "id": "WWguJIvPz6sb"
   },
   "outputs": [],
   "source": [
    "% pip install pypianoroll\n",
    "! ./scripts/run_exp.sh \"./exp/accompaniment/piano/\""
   ]
  },
  {
   "cell_type": "code",
   "execution_count": 0,
   "metadata": {
    "colab": {},
    "colab_type": "code",
    "id": "L_vQzSfMI1_2"
   },
   "outputs": [],
   "source": [
    "from pypianoroll import Multitrack\n",
    "from os.path import join\n",
    "\n",
    "track_no = input()\n",
    "\n",
    "file_dir = './exp/accompaniment/piano/results/inference/pianorolls/fake_x_bernoulli_sampling/'\n",
    "file_path = join(file_dir, 'fake_x_bernoulli_sampling_{}.npz'.format(track_no))\n",
    "multi = Multitrack(file_path)\n",
    "\n",
    "multi.write(join(file_dir, 'meow_{}.mid'.format(track_no)))"
   ]
  },
  {
   "cell_type": "code",
   "execution_count": 0,
   "metadata": {
    "colab": {},
    "colab_type": "code",
    "id": "T5SV8gd_P1b3"
   },
   "outputs": [],
   "source": []
  }
 ],
 "metadata": {
  "accelerator": "GPU",
  "colab": {
   "collapsed_sections": [],
   "name": "Music_Generation.ipynb",
   "provenance": [],
   "toc_visible": true,
   "version": "0.3.2"
  },
  "kernelspec": {
   "display_name": "Python 3",
   "language": "python",
   "name": "python3"
  },
  "language_info": {
   "codemirror_mode": {
    "name": "ipython",
    "version": 3
   },
   "file_extension": ".py",
   "mimetype": "text/x-python",
   "name": "python",
   "nbconvert_exporter": "python",
   "pygments_lexer": "ipython3",
   "version": "3.5.2"
  }
 },
 "nbformat": 4,
 "nbformat_minor": 1
}
